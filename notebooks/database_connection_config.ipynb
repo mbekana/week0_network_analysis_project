{
 "cells": [
  {
   "cell_type": "code",
   "execution_count": null,
   "metadata": {},
   "outputs": [],
   "source": [
    "# !conda install -y -c  conda-forge pymongo\n",
    "# !pip install psycopg2-binary\n",
    "\n",
    "from pymongo import MongoClient\n",
    "from pprint import pprint\n",
    "import psycopg2\n",
    "from psycopg2 import sql\n",
    "import sys\n",
    "import os\n",
    "\n",
    "project_root = os.path.abspath('../../week0_network_analysis_project/src/')\n",
    "sys.path.insert(0, project_root)\n",
    "\n",
    "from helper.postgres_database_handler import PostgreSQLHandler\n",
    "from helper.mongodb_database_handler import SlackMessageWithSchema\n",
    "\n",
    "\n"
   ]
  },
  {
   "cell_type": "markdown",
   "metadata": {},
   "source": [
    "### Mongo DB Task"
   ]
  },
  {
   "cell_type": "code",
   "execution_count": null,
   "metadata": {},
   "outputs": [],
   "source": []
  },
  {
   "cell_type": "code",
   "execution_count": null,
   "metadata": {},
   "outputs": [],
   "source": [
    "\n",
    "slack_db = SlackMessageWithSchema(database_name=\"week0_network_analysis\")\n",
    "# print(slack_db.list_collections())\n",
    "\n",
    "messages_collection = \"slack_messages\"\n",
    "reaction_collection = \"reactions\"\n",
    "replies_collection = \"replies\"\n",
    "\n",
    "replies = slack_db.find_all(replies_collection)\n",
    "reactions = slack_db.find_all(reaction_collection)\n",
    "pprint(reactions)\n",
    "for reply in replies:\n",
    "    pprint(reply)"
   ]
  },
  {
   "cell_type": "markdown",
   "metadata": {},
   "source": [
    "### PostgreSql Tasks"
   ]
  },
  {
   "cell_type": "code",
   "execution_count": null,
   "metadata": {},
   "outputs": [],
   "source": [
    "\n",
    "db_handler = PostgreSQLHandler(dbname='week0_network_analysis', user='postgres', password='P@ss1234')\n",
    "# db_handler.clear_all_tables(dbname='week0_network_analysis', user='postgres', password='P@ss1234')\n",
    "# Create tables\n",
    "db_handler.create_users_table()\n",
    "db_handler.create_feature_store_table()\n",
    "db_handler.create_model_versioning_table()\n",
    "# Create other MLOps tables, testing tables, deployment tables...\n",
    "db_handler.create_slack_messages_table()\n",
    "db_handler.create_message_tags_table()\n",
    "# Create other analysis results tables...\n",
    "\n",
    "# Close the connection\n",
    "db_handler.close_connection()\n",
    "\n",
    "\n"
   ]
  },
  {
   "cell_type": "code",
   "execution_count": null,
   "metadata": {},
   "outputs": [],
   "source": []
  }
 ],
 "metadata": {
  "kernelspec": {
   "display_name": "base",
   "language": "python",
   "name": "python3"
  },
  "language_info": {
   "codemirror_mode": {
    "name": "ipython",
    "version": 3
   },
   "file_extension": ".py",
   "mimetype": "text/x-python",
   "name": "python",
   "nbconvert_exporter": "python",
   "pygments_lexer": "ipython3",
   "version": "3.11.6"
  }
 },
 "nbformat": 4,
 "nbformat_minor": 2
}
